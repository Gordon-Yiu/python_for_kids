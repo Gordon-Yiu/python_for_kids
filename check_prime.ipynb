{
 "cells": [
  {
   "cell_type": "markdown",
   "metadata": {
    "collapsed": true
   },
   "source": [
    "# Exercise for Hedy and Andy\n",
    "Check if it is prime\n",
    "We should come back to this one over and over again.\n",
    "It is a hard problem."
   ]
  },
  {
   "cell_type": "code",
   "execution_count": 1,
   "metadata": {
    "collapsed": false
   },
   "outputs": [],
   "source": [
    "def prime_checker1(x):\n",
    "    '''decide if an integer is a prime'''\n",
    "    for i in range(2,x):\n",
    "        if x%i==0: return(False)\n",
    "    \n",
    "    return(True)"
   ]
  },
  {
   "cell_type": "code",
   "execution_count": 2,
   "metadata": {
    "collapsed": true
   },
   "outputs": [],
   "source": [
    "def prime_checker2(x):\n",
    "    '''decide if an integer is a prime'''\n",
    "    a=True\n",
    "    for i in range(2,x):\n",
    "        if x%i==0:\n",
    "            a=False\n",
    "    return(a)"
   ]
  },
  {
   "cell_type": "code",
   "execution_count": 21,
   "metadata": {
    "collapsed": true
   },
   "outputs": [],
   "source": [
    "def prime_checker3(x):\n",
    "    '''WRONG ALGORITHM--decide if an integer is a prime'''\n",
    "    a=True\n",
    "    for i in range(2,x):\n",
    "        if x%i==0:\n",
    "            a=False\n",
    "        else:\n",
    "            a=True\n",
    "    return(a)"
   ]
  },
  {
   "cell_type": "code",
   "execution_count": 12,
   "metadata": {
    "collapsed": false
   },
   "outputs": [
    {
     "name": "stdout",
     "output_type": "stream",
     "text": [
      "False\n",
      "False\n",
      "True\n"
     ]
    }
   ],
   "source": [
    "print prime_checker1(272)\n",
    "print prime_checker2(272)\n",
    "print prime_checker3(272)"
   ]
  },
  {
   "cell_type": "code",
   "execution_count": 38,
   "metadata": {
    "collapsed": false
   },
   "outputs": [
    {
     "name": "stdout",
     "output_type": "stream",
     "text": [
      "Error-----last one:  999 False True\n"
     ]
    }
   ],
   "source": [
    "#Tester:\n",
    "a=True\n",
    "b=1\n",
    "for i in range(1,1000):\n",
    "    if prime_checker1(i)<>prime_checker3(i):\n",
    "        a=False\n",
    "        b=i\n",
    "if a:\n",
    "    print \"OK\"\n",
    "else:\n",
    "    print \"Error-----last one: \", b,prime_checker1(b),prime_checker3(b)"
   ]
  },
  {
   "cell_type": "code",
   "execution_count": 3,
   "metadata": {
    "collapsed": false
   },
   "outputs": [
    {
     "data": {
      "text/plain": [
       "True"
      ]
     },
     "execution_count": 3,
     "metadata": {},
     "output_type": "execute_result"
    }
   ],
   "source": [
    "all(prime_checker1(i)==prime_checker2(i) for i in range(1,10000))"
   ]
  },
  {
   "cell_type": "code",
   "execution_count": 13,
   "metadata": {
    "collapsed": false
   },
   "outputs": [
    {
     "name": "stdout",
     "output_type": "stream",
     "text": [
      "2.73137116432\n",
      "19.0169608593\n"
     ]
    }
   ],
   "source": [
    "from timeit import timeit\n",
    "print timeit(lambda:prime_checker1(177372),number= 1000)\n",
    "print timeit(lambda:prime_checker2(177372),number= 1000)"
   ]
  },
  {
   "cell_type": "code",
   "execution_count": 11,
   "metadata": {
    "collapsed": false
   },
   "outputs": [
    {
     "data": {
      "text/plain": [
       "True"
      ]
     },
     "execution_count": 11,
     "metadata": {},
     "output_type": "execute_result"
    }
   ],
   "source": [
    "prime_checker1(17737)"
   ]
  },
  {
   "cell_type": "markdown",
   "metadata": {},
   "source": [
    "#using While loop"
   ]
  },
  {
   "cell_type": "code",
   "execution_count": 18,
   "metadata": {
    "collapsed": true
   },
   "outputs": [],
   "source": [
    "def prime_checker4(x):\n",
    "    a=2\n",
    "    while a< x:\n",
    "        if x%a==0: return(False)\n",
    "        a=a+1\n",
    "    return True"
   ]
  },
  {
   "cell_type": "code",
   "execution_count": 23,
   "metadata": {
    "collapsed": false
   },
   "outputs": [
    {
     "data": {
      "text/plain": [
       "True"
      ]
     },
     "execution_count": 23,
     "metadata": {},
     "output_type": "execute_result"
    }
   ],
   "source": [
    "all(prime_checker1(i)==prime_checker4(i) for i in range(1,10000))"
   ]
  },
  {
   "cell_type": "code",
   "execution_count": 28,
   "metadata": {
    "collapsed": false
   },
   "outputs": [
    {
     "name": "stdout",
     "output_type": "stream",
     "text": [
      "1.87202000618\n",
      "15.4128699303\n",
      "0.0714960098267\n"
     ]
    }
   ],
   "source": [
    "print timeit(lambda:prime_checker1(17777),number= 10000)\n",
    "print timeit(lambda:prime_checker2(17777),number= 10000)\n",
    "print timeit(lambda:prime_checker4(17777),number= 10000)"
   ]
  },
  {
   "cell_type": "code",
   "execution_count": null,
   "metadata": {
    "collapsed": true
   },
   "outputs": [],
   "source": []
  }
 ],
 "metadata": {
  "kernelspec": {
   "display_name": "Python 2",
   "language": "python",
   "name": "python2"
  },
  "language_info": {
   "codemirror_mode": {
    "name": "ipython",
    "version": 2
   },
   "file_extension": ".py",
   "mimetype": "text/x-python",
   "name": "python",
   "nbconvert_exporter": "python",
   "pygments_lexer": "ipython2",
   "version": "2.7.10"
  }
 },
 "nbformat": 4,
 "nbformat_minor": 0
}
