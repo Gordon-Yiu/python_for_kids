{
 "cells": [
  {
   "cell_type": "code",
   "execution_count": 12,
   "metadata": {
    "collapsed": false
   },
   "outputs": [
    {
     "name": "stdout",
     "output_type": "stream",
     "text": [
      "True\n"
     ]
    }
   ],
   "source": [
    "a=[(),()]\n",
    "if (a and 't'):\n",
    "    print True\n",
    "else:\n",
    "    print False\n"
   ]
  },
  {
   "cell_type": "code",
   "execution_count": 19,
   "metadata": {
    "collapsed": false
   },
   "outputs": [
    {
     "name": "stdout",
     "output_type": "stream",
     "text": [
      "                              *\n",
      "                             ***\n",
      "                            *****\n",
      "                           *******\n",
      "                          *********\n",
      "                         ***********\n",
      "                        *************\n",
      "                       ***************\n",
      "                      *****************\n",
      "                     *******************\n",
      "                    *********************\n",
      "                   ***********************\n",
      "                  *************************\n",
      "                 ***************************\n",
      "                *****************************\n",
      "               *******************************\n",
      "              *********************************\n",
      "             ***********************************\n",
      "            *************************************\n",
      "           ***************************************\n",
      "                           ******\n",
      "                           ******\n",
      "                           ******\n",
      "                           ******\n",
      "                           ******\n",
      "                           ******\n",
      "                           ******\n",
      "                           ******\n",
      "                           ******\n",
      "                           ******\n"
     ]
    }
   ],
   "source": [
    "a=0\n",
    "while a<20:\n",
    "    print \" \"* (30-a)+\"*\"*(2*a+1)\n",
    "    a=a+1\n",
    "\n",
    "for i in range(10):\n",
    "    print \" \"*27+\"*\"*6"
   ]
  },
  {
   "cell_type": "code",
   "execution_count": null,
   "metadata": {
    "collapsed": true
   },
   "outputs": [],
   "source": []
  }
 ],
 "metadata": {
  "kernelspec": {
   "display_name": "Python 2",
   "language": "python",
   "name": "python2"
  },
  "language_info": {
   "codemirror_mode": {
    "name": "ipython",
    "version": 2
   },
   "file_extension": ".py",
   "mimetype": "text/x-python",
   "name": "python",
   "nbconvert_exporter": "python",
   "pygments_lexer": "ipython2",
   "version": "2.7.10"
  }
 },
 "nbformat": 4,
 "nbformat_minor": 0
}
