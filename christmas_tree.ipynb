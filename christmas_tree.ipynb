{
 "cells": [
  {
   "cell_type": "markdown",
   "metadata": {},
   "source": [
    "#Christmas_tree funciton\n",
    "we will start from here and then make this better and better."
   ]
  },
  {
   "cell_type": "code",
   "execution_count": null,
   "metadata": {
    "collapsed": true
   },
   "outputs": [],
   "source": []
  },
  {
   "cell_type": "code",
   "execution_count": 18,
   "metadata": {
    "collapsed": false
   },
   "outputs": [],
   "source": [
    "'''\n",
    "1. we use keyward and default argumenet below:\n",
    "'''\n",
    "def christmas_tree(position=8,size=6):\n",
    "    ''' christmas_tree:\n",
    "    print a christmas with different position and size.\n",
    "    Accept two integers and then draw. If the input are not integers, print \" :=(\" , return 1 and exit.\n",
    "    if the input is oversize,  print \" :=(\" , return 1 and exit.\n",
    "    \n",
    "    '''\n",
    "    #樹枝\n",
    "    for i in range(0,size):\n",
    "        print \" \"*position+\" \"* (size-i)+\"*\"*(2*i+1)\n",
    "    #樹幹\n",
    "    for i in range(0,3):\n",
    "        print \" \"*position+\" \"*(size-2)+' ***'\n"
   ]
  },
  {
   "cell_type": "code",
   "execution_count": 21,
   "metadata": {
    "collapsed": false
   },
   "outputs": [
    {
     "name": "stdout",
     "output_type": "stream",
     "text": [
      "               *\n",
      "              ***\n",
      "             *****\n",
      "              ***\n",
      "              ***\n",
      "              ***\n",
      "                  *\n",
      "                 ***\n",
      "                *****\n",
      "               *******\n",
      "              *********\n",
      "             ***********\n",
      "                 ***\n",
      "                 ***\n",
      "                 ***\n",
      "              *\n",
      "             ***\n",
      "            *****\n",
      "           *******\n",
      "          *********\n",
      "         ***********\n",
      "             ***\n",
      "             ***\n",
      "             ***\n"
     ]
    }
   ],
   "source": [
    "#we can call this function by keywors. and if one is missing, default is used.\n",
    "christmas_tree(position=12,size=3)\n",
    "christmas_tree(position=12)\n",
    "christmas_tree()"
   ]
  },
  {
   "cell_type": "code",
   "execution_count": 22,
   "metadata": {
    "collapsed": false
   },
   "outputs": [
    {
     "name": "stdout",
     "output_type": "stream",
     "text": [
      " christmas_tree:\n",
      "    print a christmas with different position and size.\n",
      "    Accept two integers and then draw. If the input are not integers, print \" :=(\" , return 1 and exit.\n",
      "    if the input is oversize,  print \" :=(\" , return 1 and exit.\n",
      "    \n",
      "    \n"
     ]
    }
   ],
   "source": [
    "#we can use __doc__ to print its document string\n",
    "print christmas_tree.__doc__"
   ]
  },
  {
   "cell_type": "code",
   "execution_count": 32,
   "metadata": {
    "collapsed": false
   },
   "outputs": [
    {
     "name": "stdout",
     "output_type": "stream",
     "text": [
      ":-(\n",
      ":-(\n",
      "  *\n",
      " ***\n",
      " ***\n",
      " ***\n",
      " ***\n",
      "    ***\n",
      "    ***\n",
      "    ***\n"
     ]
    }
   ],
   "source": [
    "#Now we check the input\n",
    "def christmas_tree(position=8,size=6):\n",
    "    ''' christmas_tree:\n",
    "    print a christmas with different position and size.\n",
    "    Accept two integers and then draw. If the input are not integers, print \" :=(\" , return 1 and exit.\n",
    "    if the input is oversize,  print \" :=(\" , return 1 and exit.\n",
    "    \n",
    "    '''\n",
    "    if int(position)!=position:\n",
    "        print \":-(\"\n",
    "        return 1\n",
    "    \n",
    "    if int(size)!=size:\n",
    "        print \":-(\"\n",
    "        return 1\n",
    "    \n",
    "    #樹枝\n",
    "    for i in range(0,size):\n",
    "        print \" \"*position+\" \"* (size-i)+\"*\"*(2*i+1)\n",
    "    #樹幹\n",
    "    for i in range(0,3):\n",
    "        print \" \"*position+\" \"*(size-2)+' ***'\n",
    "        \n",
    "christmas_tree(8.3,6)\n",
    "christmas_tree(8,2.1)\n",
    "christmas_tree(-5,2)\n",
    "christmas_tree(3,-14)"
   ]
  },
  {
   "cell_type": "code",
   "execution_count": 33,
   "metadata": {
    "collapsed": false
   },
   "outputs": [
    {
     "name": "stdout",
     "output_type": "stream",
     "text": [
      ":-(\n",
      ":-(\n",
      "  *\n",
      " ***\n",
      " ***\n",
      " ***\n",
      " ***\n",
      "    ***\n",
      "    ***\n",
      "    ***\n"
     ]
    }
   ],
   "source": [
    "#Now we check the input\n",
    "#we can combine two condition by a \"or\"\n",
    "def christmas_tree(position=8,size=6):\n",
    "    ''' christmas_tree:\n",
    "    print a christmas with different position and size.\n",
    "    Accept two integers and then draw. If the input are not integers, print \" :=(\" , return 1 and exit.\n",
    "    if the input is oversize,  print \" :=(\" , return 1 and exit.\n",
    "    \n",
    "    '''\n",
    "    if int(position)!=position or int(size)!=size:\n",
    "        print \":-(\"\n",
    "        return 1\n",
    "    \n",
    "    \n",
    "    #樹枝\n",
    "    for i in range(0,size):\n",
    "        print \" \"*position+\" \"* (size-i)+\"*\"*(2*i+1)\n",
    "    #樹幹\n",
    "    for i in range(0,3):\n",
    "        print \" \"*position+\" \"*(size-2)+' ***'\n",
    "        \n",
    "christmas_tree(8.3,6)\n",
    "christmas_tree(8,2.1)\n",
    "christmas_tree(-5,2)\n",
    "christmas_tree(3,-14)"
   ]
  },
  {
   "cell_type": "code",
   "execution_count": 41,
   "metadata": {
    "collapsed": false
   },
   "outputs": [
    {
     "name": "stdout",
     "output_type": "stream",
     "text": [
      ":-(\n",
      ":-(\n",
      ":-(\n",
      ":-(\n"
     ]
    },
    {
     "data": {
      "text/plain": [
       "1"
      ]
     },
     "execution_count": 41,
     "metadata": {},
     "output_type": "execute_result"
    }
   ],
   "source": [
    "#we check the value of position and size\n",
    "def christmas_tree(position=8,size=6):\n",
    "    ''' christmas_tree:\n",
    "    print a christmas with different position and size.\n",
    "    Accept two integers and then draw. If the input are not integers, print \" :=(\" , return 1 and exit.\n",
    "    if the input is oversize,  print \" :=(\" , return 1 and exit.\n",
    "    \n",
    "    '''\n",
    "    if int(position)!=position or int(size)!=size:\n",
    "        print \":-(\"\n",
    "        return 1\n",
    "    \n",
    "    if position<1 or size<1:\n",
    "        print \":-(\"\n",
    "        return 1\n",
    "    \n",
    "    if 50<position or 50<size:\n",
    "        print \":-(\"\n",
    "        return 1\n",
    "    \n",
    "    #樹枝\n",
    "    for i in range(0,size):\n",
    "        print \" \"*position+\" \"* (size-i)+\"*\"*(2*i+1)\n",
    "    #樹幹\n",
    "    for i in range(0,3):\n",
    "        print \" \"*position+\" \"*(size-2)+' ***'\n",
    "        \n",
    "christmas_tree(8.3,6)\n",
    "christmas_tree(8,2.1)\n",
    "christmas_tree(-5,2)\n",
    "christmas_tree(3,-14)"
   ]
  },
  {
   "cell_type": "code",
   "execution_count": 47,
   "metadata": {
    "collapsed": false
   },
   "outputs": [
    {
     "name": "stdout",
     "output_type": "stream",
     "text": [
      ":-(\n",
      ":-(\n",
      ":-(\n",
      ":-(\n"
     ]
    },
    {
     "data": {
      "text/plain": [
       "1"
      ]
     },
     "execution_count": 47,
     "metadata": {},
     "output_type": "execute_result"
    }
   ],
   "source": [
    "#actually we can use a built in funciton any() to get all error. \n",
    "#\n",
    "def christmas_tree(position=8,size=6):\n",
    "    ''' christmas_tree:\n",
    "    print a christmas with different position and size.\n",
    "    Accept two integers and then draw. If the input are not integers, print \" :=(\" , return 1 and exit.\n",
    "    if the input is oversize,  print \" :=(\" , return 1 and exit.\n",
    "    \n",
    "    '''\n",
    "    errorlist=[int(position)!=position,int(size)!=size,position<1,size<1,50<position,50<size]\n",
    "    error=any(errorlist)\n",
    "    if error:\n",
    "        print \":-(\"\n",
    "        return 1\n",
    "   \n",
    "    #樹枝\n",
    "    for i in range(0,size):\n",
    "        print \" \"*position+\" \"* (size-i)+\"*\"*(2*i+1)\n",
    "    #樹幹\n",
    "    for i in range(0,3):\n",
    "        print \" \"*position+\" \"*(size-2)+' ***'\n",
    "        \n",
    "christmas_tree(8.3,6)\n",
    "christmas_tree(8,2.1)\n",
    "christmas_tree(-5,2)\n",
    "christmas_tree(3,-14)"
   ]
  },
  {
   "cell_type": "code",
   "execution_count": 48,
   "metadata": {
    "collapsed": false
   },
   "outputs": [
    {
     "ename": "ValueError",
     "evalue": "invalid literal for int() with base 10: 'a'",
     "output_type": "error",
     "traceback": [
      "\u001b[0;31m---------------------------------------------------------------------------\u001b[0m",
      "\u001b[0;31mValueError\u001b[0m                                Traceback (most recent call last)",
      "\u001b[0;32m<ipython-input-48-a174f56b2f02>\u001b[0m in \u001b[0;36m<module>\u001b[0;34m()\u001b[0m\n\u001b[1;32m      1\u001b[0m \u001b[0;31m#But what if use input a string?\u001b[0m\u001b[0;34m\u001b[0m\u001b[0;34m\u001b[0m\u001b[0m\n\u001b[0;32m----> 2\u001b[0;31m \u001b[0mchristmas_tree\u001b[0m\u001b[0;34m(\u001b[0m\u001b[0;34m'a'\u001b[0m\u001b[0;34m,\u001b[0m\u001b[0;34m-\u001b[0m\u001b[0;36m14\u001b[0m\u001b[0;34m)\u001b[0m\u001b[0;34m\u001b[0m\u001b[0m\n\u001b[0m",
      "\u001b[0;32m<ipython-input-47-a4ece0e1f934>\u001b[0m in \u001b[0;36mchristmas_tree\u001b[0;34m(position, size)\u001b[0m\n\u001b[1;32m      8\u001b[0m \u001b[0;34m\u001b[0m\u001b[0m\n\u001b[1;32m      9\u001b[0m     '''\n\u001b[0;32m---> 10\u001b[0;31m     \u001b[0merrorlist\u001b[0m\u001b[0;34m=\u001b[0m\u001b[0;34m[\u001b[0m\u001b[0mint\u001b[0m\u001b[0;34m(\u001b[0m\u001b[0mposition\u001b[0m\u001b[0;34m)\u001b[0m\u001b[0;34m!=\u001b[0m\u001b[0mposition\u001b[0m\u001b[0;34m,\u001b[0m\u001b[0mint\u001b[0m\u001b[0;34m(\u001b[0m\u001b[0msize\u001b[0m\u001b[0;34m)\u001b[0m\u001b[0;34m!=\u001b[0m\u001b[0msize\u001b[0m\u001b[0;34m,\u001b[0m\u001b[0mposition\u001b[0m\u001b[0;34m<\u001b[0m\u001b[0;36m1\u001b[0m\u001b[0;34m,\u001b[0m\u001b[0msize\u001b[0m\u001b[0;34m<\u001b[0m\u001b[0;36m1\u001b[0m\u001b[0;34m,\u001b[0m\u001b[0;36m50\u001b[0m\u001b[0;34m<\u001b[0m\u001b[0mposition\u001b[0m\u001b[0;34m,\u001b[0m\u001b[0;36m50\u001b[0m\u001b[0;34m<\u001b[0m\u001b[0msize\u001b[0m\u001b[0;34m]\u001b[0m\u001b[0;34m\u001b[0m\u001b[0m\n\u001b[0m\u001b[1;32m     11\u001b[0m     \u001b[0merror\u001b[0m\u001b[0;34m=\u001b[0m\u001b[0many\u001b[0m\u001b[0;34m(\u001b[0m\u001b[0merrorlist\u001b[0m\u001b[0;34m)\u001b[0m\u001b[0;34m\u001b[0m\u001b[0m\n\u001b[1;32m     12\u001b[0m     \u001b[0;32mif\u001b[0m \u001b[0merror\u001b[0m\u001b[0;34m:\u001b[0m\u001b[0;34m\u001b[0m\u001b[0m\n",
      "\u001b[0;31mValueError\u001b[0m: invalid literal for int() with base 10: 'a'"
     ]
    }
   ],
   "source": [
    "#But what if use input a string?\n",
    "christmas_tree('a',-14)"
   ]
  },
  {
   "cell_type": "code",
   "execution_count": 53,
   "metadata": {
    "collapsed": false
   },
   "outputs": [
    {
     "name": "stdout",
     "output_type": "stream",
     "text": [
      "True\n",
      "False\n"
     ]
    }
   ],
   "source": [
    "#Acutally a powerful function is provided \n",
    "print isinstance(2, int)\n",
    "print isinstance('asd', int)"
   ]
  },
  {
   "cell_type": "code",
   "execution_count": 60,
   "metadata": {
    "collapsed": false
   },
   "outputs": [
    {
     "name": "stdout",
     "output_type": "stream",
     "text": [
      "[True, False, False, False, False, False]\n",
      ":-(\n",
      "[False, True, False, False, False, False]\n",
      ":-(\n",
      "[False, False, True, False, False, False]\n",
      ":-(\n",
      "[False, False, False, True, False, False]\n",
      ":-(\n",
      "[True, False, False, True, True, False]\n",
      ":-(\n"
     ]
    },
    {
     "data": {
      "text/plain": [
       "1"
      ]
     },
     "execution_count": 60,
     "metadata": {},
     "output_type": "execute_result"
    }
   ],
   "source": [
    "#actually we can use a built in funciton any() to get all error. \n",
    "# and we can use 'not' to inver the result\n",
    "def christmas_tree(position=8,size=6):\n",
    "    ''' christmas_tree:\n",
    "    print a christmas with different position and size.\n",
    "    Accept two integers and then draw. If the input are not integers, print \" :=(\" , return 1 and exit.\n",
    "    if the input is oversize,  print \" :=(\" , return 1 and exit.\n",
    "    \n",
    "    '''\n",
    "    errorlist=[not isinstance(position, int),not isinstance(size, int),position<1,size<1,50<position,50<size]\n",
    "    print errorlist\n",
    "    error=any(errorlist)\n",
    "    if error:\n",
    "        print \":-(\"\n",
    "        return 1\n",
    "   \n",
    "    #樹枝\n",
    "    for i in range(0,size):\n",
    "        print \" \"*position+\" \"* (size-i)+\"*\"*(2*i+1)\n",
    "    #樹幹\n",
    "    for i in range(0,3):\n",
    "        print \" \"*position+\" \"*(size-2)+' ***'\n",
    "\n",
    "christmas_tree(8.3,6)\n",
    "christmas_tree(8,2.1)\n",
    "christmas_tree(-5,2)\n",
    "christmas_tree(3,-14)\n",
    "christmas_tree('a',-14)"
   ]
  },
  {
   "cell_type": "code",
   "execution_count": 61,
   "metadata": {
    "collapsed": false
   },
   "outputs": [
    {
     "name": "stdout",
     "output_type": "stream",
     "text": [
      "[False, False, False, False, False, False]\n",
      "  *\n",
      "  ***\n",
      "  ***\n",
      "  ***\n",
      "[False, False, False, False, False, False]\n",
      "            *\n",
      "           ***\n",
      "          *****\n",
      "         *******\n",
      "        *********\n",
      "       ***********\n",
      "           ***\n",
      "           ***\n",
      "           ***\n",
      "[False, False, False, False, False, False]\n",
      "                      *\n",
      "                     ***\n",
      "                    *****\n",
      "                   *******\n",
      "                  *********\n",
      "                 ***********\n",
      "                *************\n",
      "               ***************\n",
      "              *****************\n",
      "             *******************\n",
      "            *********************\n",
      "                     ***\n",
      "                     ***\n",
      "                     ***\n",
      "[False, False, False, False, False, False]\n",
      "                                *\n",
      "                               ***\n",
      "                              *****\n",
      "                             *******\n",
      "                            *********\n",
      "                           ***********\n",
      "                          *************\n",
      "                         ***************\n",
      "                        *****************\n",
      "                       *******************\n",
      "                      *********************\n",
      "                     ***********************\n",
      "                    *************************\n",
      "                   ***************************\n",
      "                  *****************************\n",
      "                 *******************************\n",
      "                               ***\n",
      "                               ***\n",
      "                               ***\n",
      "[False, False, False, False, False, False]\n",
      "                                          *\n",
      "                                         ***\n",
      "                                        *****\n",
      "                                       *******\n",
      "                                      *********\n",
      "                                     ***********\n",
      "                                    *************\n",
      "                                   ***************\n",
      "                                  *****************\n",
      "                                 *******************\n",
      "                                *********************\n",
      "                               ***********************\n",
      "                              *************************\n",
      "                             ***************************\n",
      "                            *****************************\n",
      "                           *******************************\n",
      "                          *********************************\n",
      "                         ***********************************\n",
      "                        *************************************\n",
      "                       ***************************************\n",
      "                      *****************************************\n",
      "                                         ***\n",
      "                                         ***\n",
      "                                         ***\n",
      "[False, False, False, False, False, False]\n",
      "                                                    *\n",
      "                                                   ***\n",
      "                                                  *****\n",
      "                                                 *******\n",
      "                                                *********\n",
      "                                               ***********\n",
      "                                              *************\n",
      "                                             ***************\n",
      "                                            *****************\n",
      "                                           *******************\n",
      "                                          *********************\n",
      "                                         ***********************\n",
      "                                        *************************\n",
      "                                       ***************************\n",
      "                                      *****************************\n",
      "                                     *******************************\n",
      "                                    *********************************\n",
      "                                   ***********************************\n",
      "                                  *************************************\n",
      "                                 ***************************************\n",
      "                                *****************************************\n",
      "                               *******************************************\n",
      "                              *********************************************\n",
      "                             ***********************************************\n",
      "                            *************************************************\n",
      "                           ***************************************************\n",
      "                                                   ***\n",
      "                                                   ***\n",
      "                                                   ***\n",
      "[False, False, False, False, False, False]\n",
      "                                                              *\n",
      "                                                             ***\n",
      "                                                            *****\n",
      "                                                           *******\n",
      "                                                          *********\n",
      "                                                         ***********\n",
      "                                                        *************\n",
      "                                                       ***************\n",
      "                                                      *****************\n",
      "                                                     *******************\n",
      "                                                    *********************\n",
      "                                                   ***********************\n",
      "                                                  *************************\n",
      "                                                 ***************************\n",
      "                                                *****************************\n",
      "                                               *******************************\n",
      "                                              *********************************\n",
      "                                             ***********************************\n",
      "                                            *************************************\n",
      "                                           ***************************************\n",
      "                                          *****************************************\n",
      "                                         *******************************************\n",
      "                                        *********************************************\n",
      "                                       ***********************************************\n",
      "                                      *************************************************\n",
      "                                     ***************************************************\n",
      "                                    *****************************************************\n",
      "                                   *******************************************************\n",
      "                                  *********************************************************\n",
      "                                 ***********************************************************\n",
      "                                *************************************************************\n",
      "                                                             ***\n",
      "                                                             ***\n",
      "                                                             ***\n",
      "[False, False, False, False, False, False]\n",
      "                                                                        *\n",
      "                                                                       ***\n",
      "                                                                      *****\n",
      "                                                                     *******\n",
      "                                                                    *********\n",
      "                                                                   ***********\n",
      "                                                                  *************\n",
      "                                                                 ***************\n",
      "                                                                *****************\n",
      "                                                               *******************\n",
      "                                                              *********************\n",
      "                                                             ***********************\n",
      "                                                            *************************\n",
      "                                                           ***************************\n",
      "                                                          *****************************\n",
      "                                                         *******************************\n",
      "                                                        *********************************\n",
      "                                                       ***********************************\n",
      "                                                      *************************************\n",
      "                                                     ***************************************\n",
      "                                                    *****************************************\n",
      "                                                   *******************************************\n",
      "                                                  *********************************************\n",
      "                                                 ***********************************************\n",
      "                                                *************************************************\n",
      "                                               ***************************************************\n",
      "                                              *****************************************************\n",
      "                                             *******************************************************\n",
      "                                            *********************************************************\n",
      "                                           ***********************************************************\n",
      "                                          *************************************************************\n",
      "                                         ***************************************************************\n",
      "                                        *****************************************************************\n",
      "                                       *******************************************************************\n",
      "                                      *********************************************************************\n",
      "                                     ***********************************************************************\n",
      "                                                                       ***\n",
      "                                                                       ***\n",
      "                                                                       ***\n"
     ]
    }
   ],
   "source": [
    "for i in range(1,40,5):\n",
    "    christmas_tree(i,i)\n"
   ]
  },
  {
   "cell_type": "code",
   "execution_count": null,
   "metadata": {
    "collapsed": true
   },
   "outputs": [],
   "source": []
  }
 ],
 "metadata": {
  "kernelspec": {
   "display_name": "Python 2",
   "language": "python",
   "name": "python2"
  },
  "language_info": {
   "codemirror_mode": {
    "name": "ipython",
    "version": 2
   },
   "file_extension": ".py",
   "mimetype": "text/x-python",
   "name": "python",
   "nbconvert_exporter": "python",
   "pygments_lexer": "ipython2",
   "version": "2.7.10"
  }
 },
 "nbformat": 4,
 "nbformat_minor": 0
}
