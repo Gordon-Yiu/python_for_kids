{
 "cells": [
  {
   "cell_type": "markdown",
   "metadata": {},
   "source": [
    "#Looping technique: while and for\n",
    " For and while are means that we want to ask computer to do task repeatedly.\n",
    " but each with slightly different problems.\n",
    " "
   ]
  },
  {
   "cell_type": "code",
   "execution_count": 1,
   "metadata": {
    "collapsed": false
   },
   "outputs": [
    {
     "name": "stdout",
     "output_type": "stream",
     "text": [
      "*\n",
      "*\n",
      "*\n",
      "*\n",
      "*\n",
      "*\n",
      "*\n",
      "*\n",
      "*\n",
      "*\n"
     ]
    }
   ],
   "source": [
    "#just repeatedly do ten times\n",
    "for i in range(0,10):\n",
    "    print \"*\""
   ]
  },
  {
   "cell_type": "code",
   "execution_count": 2,
   "metadata": {
    "collapsed": false
   },
   "outputs": [
    {
     "name": "stdout",
     "output_type": "stream",
     "text": [
      "\n",
      "*\n",
      "**\n",
      "***\n",
      "****\n",
      "*****\n",
      "******\n",
      "*******\n",
      "********\n",
      "*********\n"
     ]
    }
   ],
   "source": [
    "#each time print more stars\n",
    "for i in range(0,10):\n",
    "    print \"*\"*i\n"
   ]
  },
  {
   "cell_type": "code",
   "execution_count": 13,
   "metadata": {
    "collapsed": false
   },
   "outputs": [
    {
     "name": "stdout",
     "output_type": "stream",
     "text": [
      "**********\n",
      "*********\n",
      "********\n",
      "*******\n",
      "******\n",
      "*****\n",
      "****\n",
      "***\n",
      "**\n",
      "*\n"
     ]
    }
   ],
   "source": [
    "#each time print less stars\n",
    "for i in range(0,10):\n",
    "    print \"*\"*(10-i)"
   ]
  },
  {
   "cell_type": "code",
   "execution_count": 13,
   "metadata": {
    "collapsed": false
   },
   "outputs": [
    {
     "name": "stdout",
     "output_type": "stream",
     "text": [
      "   **********\n",
      "*   *********\n",
      "**   ********\n",
      "***   *******\n",
      "****   ******\n",
      "*****   *****\n",
      "******   ****\n",
      "*******   ***\n",
      "********   **\n",
      "*********   *\n"
     ]
    }
   ],
   "source": [
    "#it could be funny\n",
    "for i in range(0,10):\n",
    "    print \"*\"*i+\" \"*3+\"*\"*(10-i)"
   ]
  },
  {
   "cell_type": "code",
   "execution_count": 3,
   "metadata": {
    "collapsed": false
   },
   "outputs": [
    {
     "name": "stdout",
     "output_type": "stream",
     "text": [
      "*****\n",
      "*****\n",
      "*****\n",
      "*****\n",
      "*****\n",
      "*****\n",
      "*****\n",
      "*****\n",
      "*****\n",
      "*****\n"
     ]
    }
   ],
   "source": [
    "#loop index i is not use in the loop command, nothing is changed.\n",
    "a=5\n",
    "for i in range(0,10):\n",
    "    print \"*\"*a"
   ]
  },
  {
   "cell_type": "code",
   "execution_count": 4,
   "metadata": {
    "collapsed": false
   },
   "outputs": [
    {
     "name": "stdout",
     "output_type": "stream",
     "text": [
      "0\n",
      "1\n",
      "2\n",
      "3\n",
      "4\n",
      "5\n",
      "6\n",
      "7\n",
      "8\n",
      "9\n"
     ]
    }
   ],
   "source": [
    "for i in range(0,10):\n",
    "    print i"
   ]
  },
  {
   "cell_type": "code",
   "execution_count": 14,
   "metadata": {
    "collapsed": false
   },
   "outputs": [
    {
     "name": "stdout",
     "output_type": "stream",
     "text": [
      "0 0\n",
      "1 1\n",
      "2 4\n",
      "3 9\n",
      "4 16\n",
      "5 25\n",
      "6 36\n",
      "7 49\n",
      "8 64\n",
      "9 81\n"
     ]
    }
   ],
   "source": [
    "for i in range(0,10):\n",
    "    print i, i*i"
   ]
  },
  {
   "cell_type": "code",
   "execution_count": 5,
   "metadata": {
    "collapsed": false
   },
   "outputs": [
    {
     "name": "stdout",
     "output_type": "stream",
     "text": [
      "0.0 0 0 0\n",
      "1.0 1 1 1\n",
      "1.41421356237 2 4 8\n",
      "1.73205080757 3 9 27\n",
      "2.0 4 16 64\n",
      "2.2360679775 5 25 125\n",
      "2.44948974278 6 36 216\n",
      "2.64575131106 7 49 343\n",
      "2.82842712475 8 64 512\n",
      "3.0 9 81 729\n"
     ]
    }
   ],
   "source": [
    "#we can iterate through i\n",
    "for i in range(0,10):\n",
    "    print i**0.5,i, i**2, i**3"
   ]
  },
  {
   "cell_type": "code",
   "execution_count": 15,
   "metadata": {
    "collapsed": false
   },
   "outputs": [
    {
     "name": "stdout",
     "output_type": "stream",
     "text": [
      "    square root    integer     square      cubic\n",
      "            0.0          0          0          0\n",
      "            1.0          1          1          1\n",
      "  1.41421356237          2          4          8\n",
      "  1.73205080757          3          9         27\n",
      "            2.0          4         16         64\n",
      "   2.2360679775          5         25        125\n",
      "  2.44948974278          6         36        216\n",
      "  2.64575131106          7         49        343\n",
      "  2.82842712475          8         64        512\n",
      "            3.0          9         81        729\n"
     ]
    }
   ],
   "source": [
    "#format is not good. use rjust() a string function.\n",
    "#use str and float to convert data type to str and float\n",
    "\n",
    "print 'square root'.rjust(15),'integer'.rjust(10), 'square'.rjust(10), 'cubic'.rjust(10)\n",
    "for i in range(0,10):\n",
    "    print str(float(i)**0.50).rjust(15),str(i).rjust(10), str(i**2).rjust(10), str(i**3).rjust(10)"
   ]
  },
  {
   "cell_type": "markdown",
   "metadata": {},
   "source": [
    "#While loop\n",
    "While loop is more flexible. But we need to \n",
    "1. initialize it before entering the loop \n",
    "2. set the continue conditions\n",
    "3. change the loop index to tigger the stop condition"
   ]
  },
  {
   "cell_type": "code",
   "execution_count": 15,
   "metadata": {
    "collapsed": false
   },
   "outputs": [
    {
     "name": "stdout",
     "output_type": "stream",
     "text": [
      "True\n",
      "True\n",
      "True\n",
      "False\n"
     ]
    }
   ],
   "source": [
    "#comparator and logic and/or\n",
    "a=10\n",
    "print a<20\n",
    "print a<20 and a>5\n",
    "print a<20 or a<12\n",
    "print 12<a<20"
   ]
  },
  {
   "cell_type": "code",
   "execution_count": 17,
   "metadata": {
    "collapsed": false
   },
   "outputs": [
    {
     "name": "stdout",
     "output_type": "stream",
     "text": [
      "10\n",
      "11\n",
      "12\n",
      "13\n",
      "14\n",
      "15\n",
      "16\n",
      "17\n",
      "18\n",
      "19\n"
     ]
    }
   ],
   "source": [
    "a=10\n",
    "while a<20:\n",
    "    print a\n",
    "    a=a+1"
   ]
  },
  {
   "cell_type": "code",
   "execution_count": 19,
   "metadata": {
    "collapsed": false
   },
   "outputs": [],
   "source": [
    "#if we set the wrong conditions, loop command will never be excute.\n",
    "#nothing will be printed\n",
    "a=10\n",
    "while a==20:\n",
    "    print a\n",
    "    a=a+1"
   ]
  },
  {
   "cell_type": "code",
   "execution_count": 1,
   "metadata": {
    "collapsed": false
   },
   "outputs": [
    {
     "name": "stdout",
     "output_type": "stream",
     "text": [
      "10\n",
      "11\n",
      "12\n",
      "13\n",
      "14\n",
      "15\n",
      "16\n",
      "17\n",
      "18\n",
      "19\n"
     ]
    }
   ],
   "source": [
    "#if we do no change loop index, it will execute forever.\n",
    "#following code will never stop\n",
    "#do not run.\n",
    "a=10\n",
    "while a<20:\n",
    "    print a\n"
   ]
  },
  {
   "cell_type": "code",
   "execution_count": 2,
   "metadata": {
    "collapsed": false
   },
   "outputs": [
    {
     "name": "stdout",
     "output_type": "stream",
     "text": [
      "0\n",
      "1\n",
      "2\n",
      "3\n",
      "4\n",
      "5\n",
      "6\n",
      "7\n",
      "8\n",
      "9\n"
     ]
    }
   ],
   "source": [
    "#while could be used just like a for loop\n",
    "a=0\n",
    "while a<10:\n",
    "    print a\n",
    "    a=a+1"
   ]
  },
  {
   "cell_type": "code",
   "execution_count": 3,
   "metadata": {
    "collapsed": false
   },
   "outputs": [
    {
     "name": "stdout",
     "output_type": "stream",
     "text": [
      "0\n",
      "2\n",
      "6\n"
     ]
    }
   ],
   "source": [
    "#while could be used just like a for loop\n",
    "#be careful while you change the loop index\n",
    "a=0\n",
    "while a<10:\n",
    "    print a\n",
    "    a=a+1\n",
    "    a=a*2"
   ]
  },
  {
   "cell_type": "code",
   "execution_count": 11,
   "metadata": {
    "collapsed": false
   },
   "outputs": [
    {
     "name": "stdout",
     "output_type": "stream",
     "text": [
      "2  : testing......\n",
      "3  : testing......\n",
      "4  : testing......\n",
      "5  : testing......\n",
      "6  : testing......\n",
      "7  : testing......\n",
      "8  : testing......\n",
      "9  : testing......\n",
      "10  : testing......\n",
      "11  : testing......\n",
      "12  : testing......\n",
      "13  : testing......\n",
      "14  : testing......\n",
      "15  : testing......\n",
      "16  : testing......\n",
      "17  : testing......\n",
      "18  : testing......\n",
      "19  : testing......\n",
      "20  : testing......\n",
      "21  : testing......\n",
      "22  : testing......\n",
      "23  : testing......\n",
      "24  : testing......\n",
      "25  : testing......\n",
      "26  : testing......\n",
      "27  : testing......\n",
      "28  : testing......\n",
      "29  : testing......\n",
      "30  : testing......\n",
      "31  : testing......\n",
      "32  : testing......\n",
      "33  : testing......\n",
      "34  : testing......\n",
      "35  : testing......\n",
      "36  : testing......\n",
      "37  : testing......\n",
      "38  : testing......\n",
      "39  : testing......\n",
      "40  : testing......\n",
      "41  : testing......\n",
      "42  : testing......\n",
      "43  : testing......\n",
      "44  : testing......\n",
      "45  : testing......\n",
      "46  : testing......\n",
      "47  : testing......\n",
      "48  : testing......\n",
      "49  : testing......\n",
      "50  : testing......\n",
      "51  : testing......\n",
      "52  : testing......\n",
      "53  : testing......\n",
      "54  : testing......\n",
      "55  : testing......\n",
      "56  : testing......\n",
      "57  : testing......\n",
      "58  : testing......\n",
      "59  : testing......\n",
      "60  : testing......\n",
      "61  : testing......\n",
      "62  : testing......\n",
      "63  : testing......\n",
      "64  : testing......\n",
      "65  : testing......\n",
      "66  : testing......\n",
      "67  : testing......\n",
      "68  : testing......\n",
      "69  : testing......\n",
      "70  : testing......\n",
      "71  : testing......\n",
      "72  : testing......\n",
      "73  : testing......\n",
      "74  : testing......\n",
      "75  : testing......\n",
      "76  : testing......\n",
      "77  : testing......\n",
      "78  : testing......\n",
      "79  : testing......\n",
      "80  : testing......\n",
      "81  : testing......\n",
      "82  : testing......\n",
      "83  : testing......\n",
      "84  : testing......\n",
      "85  : testing......\n",
      "86  : testing......\n",
      "87  : testing......\n",
      "88  : testing......\n",
      "89  : testing......\n",
      "90  : testing......\n",
      "91  : testing......\n",
      "92  : testing......\n",
      "93  : testing......\n",
      "94  : testing......\n",
      "95  : testing......\n",
      "96  : testing......\n",
      "97  : testing......\n",
      "98  : testing......\n",
      "99  : testing......\n",
      "100  : testing......\n",
      "101  : testing......\n",
      "102  : testing......\n",
      "103  : testing......\n",
      "104  : testing......\n",
      "105  : testing......\n",
      "106  : testing......\n",
      "107  : testing......\n",
      "108  : testing......\n",
      "109  : testing......\n",
      "110  : testing......\n",
      "111  : testing......\n",
      "112  : testing......\n",
      "113  : testing......\n",
      "114  : testing......\n",
      "115  : testing......\n",
      "116  : testing......\n",
      "117  : testing......\n",
      "118  : testing......\n",
      "119  : testing......\n",
      "120  : testing......\n",
      "121  : testing......\n",
      "122  : testing......\n",
      "123  : testing......\n",
      "124  : testing......\n",
      "125  : testing......\n",
      "126  : testing......\n",
      "127  : testing......\n",
      "128  : testing......\n",
      "129  : testing......\n",
      "130  : testing......\n",
      "Prime  =>  True\n"
     ]
    }
   ],
   "source": [
    "#check if a is a prime\n",
    "# we can use a flag to trig the exit immediately, save time\n",
    "a=131\n",
    "i=2\n",
    "found=False\n",
    "is_prime=True\n",
    "while (i<a) and found==False:\n",
    "    print i, \" : testing......\"\n",
    "    if a%i==0:\n",
    "        print a,\" = \", i, \" * \",a/i\n",
    "        found=True\n",
    "        is_prime=False\n",
    "    else:\n",
    "        #print i,\"can not divide \", a\n",
    "        found=False\n",
    "    i=i+1\n",
    "#note that once a%i=0, the while loop just stop/exit\n",
    "\n",
    "print \"Prime  => \",is_prime"
   ]
  },
  {
   "cell_type": "code",
   "execution_count": 12,
   "metadata": {
    "collapsed": false
   },
   "outputs": [
    {
     "name": "stdout",
     "output_type": "stream",
     "text": [
      "2  : testing......\n",
      "3  : testing......\n",
      "4  : testing......\n",
      "5  : testing......\n",
      "6  : testing......\n",
      "7  : testing......\n",
      "8  : testing......\n",
      "9  : testing......\n",
      "10  : testing......\n",
      "11  : testing......\n",
      "Prime  =>  True\n"
     ]
    }
   ],
   "source": [
    "#check if a is a prime\n",
    "# we can use a flag to trig the exit immediately, save time\n",
    "#actually we do not have to check till a-1, sqrt(a) is enough\n",
    "a=131\n",
    "i=2\n",
    "found=False\n",
    "is_prime=True\n",
    "while (i<float(a)**0.5) and found==False:\n",
    "    print i, \" : testing......\"\n",
    "    if a%i==0:\n",
    "        print a,\" = \", i, \" * \",a/i\n",
    "        found=True\n",
    "        is_prime=False\n",
    "    else:\n",
    "        #print i,\"can not divide \", a\n",
    "        found=False\n",
    "    i=i+1\n",
    "#note that once a%i=0, the while loop just stop/exit\n",
    "\n",
    "print \"Prime  => \",is_prime"
   ]
  },
  {
   "cell_type": "markdown",
   "metadata": {
    "collapsed": true
   },
   "source": [
    "While and For are powerful loop tools, we can use them to do repeated operation. Pay attention to \n",
    "1. the loop index: what is actually changed during each execution.\n",
    "2. pay attention to the conditions to test.\n",
    "3. pay attention how to start and how to stop."
   ]
  },
  {
   "cell_type": "code",
   "execution_count": null,
   "metadata": {
    "collapsed": true
   },
   "outputs": [],
   "source": [
    "test"
   ]
  }
 ],
 "metadata": {
  "kernelspec": {
   "display_name": "Python 2",
   "language": "python",
   "name": "python2"
  },
  "language_info": {
   "codemirror_mode": {
    "name": "ipython",
    "version": 2
   },
   "file_extension": ".py",
   "mimetype": "text/x-python",
   "name": "python",
   "nbconvert_exporter": "python",
   "pygments_lexer": "ipython2",
   "version": "2.7.10"
  }
 },
 "nbformat": 4,
 "nbformat_minor": 0
}
