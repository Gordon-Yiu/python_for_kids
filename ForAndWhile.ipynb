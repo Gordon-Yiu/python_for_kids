{
 "cells": [
  {
   "cell_type": "markdown",
   "metadata": {},
   "source": [
    "#Looping technique: while and for\n",
    " For and while are means that we want to ask computer to do task repeatedly.\n",
    " but each with slightly different problems.\n",
    " "
   ]
  },
  {
   "cell_type": "code",
   "execution_count": 1,
   "metadata": {
    "collapsed": false
   },
   "outputs": [
    {
     "name": "stdout",
     "output_type": "stream",
     "text": [
      "*\n",
      "*\n",
      "*\n",
      "*\n",
      "*\n",
      "*\n",
      "*\n",
      "*\n",
      "*\n",
      "*\n"
     ]
    }
   ],
   "source": [
    "#just repeatedly do ten times\n",
    "for i in range(0,10):\n",
    "    print \"*\""
   ]
  },
  {
   "cell_type": "code",
   "execution_count": 2,
   "metadata": {
    "collapsed": false
   },
   "outputs": [
    {
     "name": "stdout",
     "output_type": "stream",
     "text": [
      "\n",
      "*\n",
      "**\n",
      "***\n",
      "****\n",
      "*****\n",
      "******\n",
      "*******\n",
      "********\n",
      "*********\n"
     ]
    }
   ],
   "source": [
    "#each time print more star\n",
    "for i in range(0,10):\n",
    "    print \"*\"*i\n"
   ]
  },
  {
   "cell_type": "code",
   "execution_count": 4,
   "metadata": {
    "collapsed": false
   },
   "outputs": [
    {
     "name": "stdout",
     "output_type": "stream",
     "text": [
      "0\n",
      "1\n",
      "2\n",
      "3\n",
      "4\n",
      "5\n",
      "6\n",
      "7\n",
      "8\n",
      "9\n"
     ]
    }
   ],
   "source": [
    "for i in range(0,10):\n",
    "    print i\n"
   ]
  },
  {
   "cell_type": "code",
   "execution_count": 3,
   "metadata": {
    "collapsed": false
   },
   "outputs": [
    {
     "name": "stdout",
     "output_type": "stream",
     "text": [
      "*****\n",
      "*****\n",
      "*****\n",
      "*****\n",
      "*****\n",
      "*****\n",
      "*****\n",
      "*****\n",
      "*****\n",
      "*****\n"
     ]
    }
   ],
   "source": [
    "a=5\n",
    "for i in range(0,10):\n",
    "    print \"*\"*a"
   ]
  },
  {
   "cell_type": "code",
   "execution_count": 5,
   "metadata": {
    "collapsed": false
   },
   "outputs": [
    {
     "name": "stdout",
     "output_type": "stream",
     "text": [
      "0.0 0 0 0\n",
      "1.0 1 1 1\n",
      "1.41421356237 2 4 8\n",
      "1.73205080757 3 9 27\n",
      "2.0 4 16 64\n",
      "2.2360679775 5 25 125\n",
      "2.44948974278 6 36 216\n",
      "2.64575131106 7 49 343\n",
      "2.82842712475 8 64 512\n",
      "3.0 9 81 729\n"
     ]
    }
   ],
   "source": [
    "#we can iterate through i\n",
    "for i in range(0,10):\n",
    "    print i**0.5,i, i**2, i**3\n",
    "\n"
   ]
  },
  {
   "cell_type": "code",
   "execution_count": 9,
   "metadata": {
    "collapsed": false
   },
   "outputs": [
    {
     "name": "stdout",
     "output_type": "stream",
     "text": [
      "    square root integer square triple\n",
      "            0.0       0     0     0\n",
      "            1.0       1     1     1\n",
      "  1.41421356237       2     4     8\n",
      "  1.73205080757       3     9    27\n",
      "            2.0       4    16    64\n",
      "   2.2360679775       5    25   125\n",
      "  2.44948974278       6    36   216\n",
      "  2.64575131106       7    49   343\n",
      "  2.82842712475       8    64   512\n",
      "            3.0       9    81   729\n"
     ]
    }
   ],
   "source": [
    "#format is not good. use rjust.\n",
    "#\n",
    "\n",
    "print 'square root'.rjust(15),'integer'.rjust(7), 'square'.rjust(5), 'triple'.rjust(5)\n",
    "for i in range(0,10):\n",
    "    print str(float(i)**0.50).rjust(15),str(i).rjust(7), str(i**2).rjust(5), str(i**3).rjust(5)"
   ]
  },
  {
   "cell_type": "code",
   "execution_count": null,
   "metadata": {
    "collapsed": true
   },
   "outputs": [],
   "source": []
  }
 ],
 "metadata": {
  "kernelspec": {
   "display_name": "Python 2",
   "language": "python",
   "name": "python2"
  },
  "language_info": {
   "codemirror_mode": {
    "name": "ipython",
    "version": 2
   },
   "file_extension": ".py",
   "mimetype": "text/x-python",
   "name": "python",
   "nbconvert_exporter": "python",
   "pygments_lexer": "ipython2",
   "version": "2.7.10"
  }
 },
 "nbformat": 4,
 "nbformat_minor": 0
}
